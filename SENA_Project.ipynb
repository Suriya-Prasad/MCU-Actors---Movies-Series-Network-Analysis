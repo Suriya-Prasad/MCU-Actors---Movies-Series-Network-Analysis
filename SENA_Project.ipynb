{
 "cells": [
  {
   "cell_type": "code",
   "execution_count": 1,
   "metadata": {},
   "outputs": [],
   "source": [
    "from networkx.algorithms import bipartite\n",
    "import csv\n",
    "import networkx as nx\n",
    "from plotly.offline import download_plotlyjs, init_notebook_mode, iplot\n",
    "import plotly.graph_objs as go"
   ]
  },
  {
   "cell_type": "code",
   "execution_count": 2,
   "metadata": {},
   "outputs": [
    {
     "data": {
      "text/plain": [
       "['Iron Man',\n",
       " 'The incredible Hulk',\n",
       " 'Iron Man 2',\n",
       " 'Thor',\n",
       " 'Captain America: The first Avenger',\n",
       " \"Marvel's the Avengers\",\n",
       " 'Iron Man 3',\n",
       " 'Thor: The dark world',\n",
       " 'Captain America : The Winter Soldier',\n",
       " 'Guardians Of the Galaxy',\n",
       " 'Avengers : Age of Ultron',\n",
       " 'Ant-Man',\n",
       " 'Captain America: Civil War',\n",
       " 'Doctor Strange',\n",
       " 'Guardians of the Galaxy Vol. 2',\n",
       " 'Spider-Man:Homecoming',\n",
       " 'Thor:Ragnarok',\n",
       " 'Black Panther',\n",
       " 'Avengers: Infinity War',\n",
       " 'Ant-Man and the Wasp',\n",
       " 'Captain-Marvel',\n",
       " 'Avengers:Endgame',\n",
       " 'Spider-Man:Far From Home',\n",
       " 'Black Widow',\n",
       " 'Shang-Chi and the Legend of the Ten Rings',\n",
       " 'Eternals',\n",
       " 'Spider-Man: No Way Home',\n",
       " 'Doctor Strange in the Multiverse of Madness',\n",
       " 'Thor: Love and Thunder']"
      ]
     },
     "execution_count": 2,
     "metadata": {},
     "output_type": "execute_result"
    }
   ],
   "source": [
    "movies = []\n",
    "with open('SENA_DataSet - MCUActorList.csv') as f:\n",
    "    file = csv.reader(f)\n",
    "    for line in file:\n",
    "        movies.append(line[0])\n",
    "movies"
   ]
  },
  {
   "cell_type": "code",
   "execution_count": 4,
   "metadata": {},
   "outputs": [
    {
     "data": {
      "text/plain": [
       "{'Andrew Garfield',\n",
       " 'Angelina Jolie',\n",
       " 'Anthony Hopkins',\n",
       " 'Anthony Mackie',\n",
       " 'Awkwafina',\n",
       " 'Barry Keoghan',\n",
       " 'Ben Kingsley',\n",
       " 'Ben Mendelsohn',\n",
       " 'Benedict Cumberbatch',\n",
       " 'Benedict Wong',\n",
       " 'Bradely Cooper',\n",
       " 'Bradley Cooper',\n",
       " 'Brie Larson',\n",
       " 'Cate Blanchett',\n",
       " 'Chadwick Boseman',\n",
       " 'Chiswetel Ejiofor',\n",
       " 'Chris Evans',\n",
       " 'Chris Hemsworth',\n",
       " 'Chris Patt',\n",
       " 'Christian Bale',\n",
       " 'Corey Stall',\n",
       " 'Dave Bautista',\n",
       " 'David Harbour',\n",
       " 'Don Cheadle',\n",
       " 'Edward Norton',\n",
       " 'Elisabeth Olsen',\n",
       " 'Evangeline Lilly',\n",
       " 'Florence Pugh',\n",
       " 'Gemma Chan',\n",
       " 'Guy Pearce',\n",
       " 'Gweneth Paltrow',\n",
       " 'Hugo Weaving',\n",
       " 'Idris Elba',\n",
       " 'Jacob Batalon',\n",
       " 'Jake Gyllenhaal',\n",
       " 'Jeremy Renner',\n",
       " 'Josh Brolin',\n",
       " 'Kumail Nanjiani',\n",
       " 'Letitia Wright',\n",
       " 'Liv Tyler',\n",
       " \"Lupita Nyong'o\",\n",
       " 'Mark Ruffalo',\n",
       " 'Martin Freeman',\n",
       " 'Mengâ€™er Zhang',\n",
       " 'Michael B. Jordan',\n",
       " 'Michael Douglas',\n",
       " 'Michael Keaton',\n",
       " 'Micheal Pena',\n",
       " 'Mickey Rourke',\n",
       " 'Natalie Portman',\n",
       " 'Paul Rudd',\n",
       " 'Racheal McAdams',\n",
       " 'Rachel Weisz',\n",
       " 'Richard Madden',\n",
       " 'Robert Downey Jr.',\n",
       " 'Samuel L. Jackson',\n",
       " 'Scarlett Johansson',\n",
       " 'Sebastian Stan',\n",
       " 'Simu Liu',\n",
       " 'Taika Waititi',\n",
       " 'Terrence Howard',\n",
       " 'Tessa Thompson',\n",
       " 'Tim Roth',\n",
       " 'Tobey Maguire',\n",
       " 'Tom Hiddleston',\n",
       " 'Tom Holland',\n",
       " 'Vin Diesel',\n",
       " 'Xochiti Gomez',\n",
       " 'Zendaya',\n",
       " 'Zoe Saldana'}"
      ]
     },
     "execution_count": 4,
     "metadata": {},
     "output_type": "execute_result"
    }
   ],
   "source": [
    "actors = set()\n",
    "with open('SENA_DataSet - MCUActorList.csv') as f:\n",
    "    file = csv.reader(f)\n",
    "    for line in file:\n",
    "        for actor in line[1:]:\n",
    "            if actor != '':\n",
    "                actors.add(actor)\n",
    "actors"
   ]
  },
  {
   "cell_type": "code",
   "execution_count": 5,
   "metadata": {},
   "outputs": [],
   "source": [
    "G = nx.Graph()"
   ]
  },
  {
   "cell_type": "code",
   "execution_count": 6,
   "metadata": {},
   "outputs": [],
   "source": [
    "G.add_nodes_from(actors,bipartite=0)\n",
    "G.add_nodes_from(movies,bipartite=1)"
   ]
  },
  {
   "cell_type": "code",
   "execution_count": null,
   "metadata": {},
   "outputs": [],
   "source": [
    "with open('SENA_DataSet - MCUActorList.csv') as f:\n",
    "    file = csv.reader(f)\n",
    "    for line in file:\n",
    "        movie = line[0]\n",
    "        for i in line[1:]:\n",
    "            if i != '':\n",
    "                G.add_edge(movie,i)\n"
   ]
  }
 ],
 "metadata": {
  "kernelspec": {
   "display_name": "Python 3.9.7 ('sena': venv)",
   "language": "python",
   "name": "python3"
  },
  "language_info": {
   "codemirror_mode": {
    "name": "ipython",
    "version": 3
   },
   "file_extension": ".py",
   "mimetype": "text/x-python",
   "name": "python",
   "nbconvert_exporter": "python",
   "pygments_lexer": "ipython3",
   "version": "3.9.7"
  },
  "orig_nbformat": 4,
  "vscode": {
   "interpreter": {
    "hash": "583fa07ebe794d4c7b832b863655a169fe227b6f1d8be1127dd55ebf9c885e62"
   }
  }
 },
 "nbformat": 4,
 "nbformat_minor": 2
}
