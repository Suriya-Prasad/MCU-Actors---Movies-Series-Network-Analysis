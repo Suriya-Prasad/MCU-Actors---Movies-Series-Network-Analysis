{
 "cells": [
  {
   "cell_type": "code",
   "execution_count": 1,
   "metadata": {},
   "outputs": [],
   "source": [
    "from networkx.algorithms import bipartite\n",
    "import csv\n",
    "import networkx as nx\n",
    "from plotly.offline import download_plotlyjs, init_notebook_mode, iplot\n",
    "import plotly.graph_objs as go"
   ]
  },
  {
   "cell_type": "code",
   "execution_count": null,
   "metadata": {},
   "outputs": [],
   "source": [
    "movies = []\n",
    "with open('SENA_DataSet - MCUActorList.csv') as f:\n",
    "    file = csv.reader(f)\n",
    "    for line in file:\n",
    "        movies.append(line[0])\n",
    "movies"
   ]
  },
  {
   "cell_type": "code",
   "execution_count": null,
   "metadata": {},
   "outputs": [],
   "source": [
    "actors = set()\n",
    "with open('SENA_DataSet - MCUActorList.csv') as f:\n",
    "    file = csv.reader(f)\n",
    "    for line in file:\n",
    "        for actor in line[1:]:\n",
    "            if actor != '':\n",
    "                actors.add(actor)\n",
    "actors"
   ]
  },
  {
   "cell_type": "code",
   "execution_count": 12,
   "metadata": {},
   "outputs": [],
   "source": [
    "G = nx.Graph()"
   ]
  },
  {
   "cell_type": "code",
   "execution_count": 13,
   "metadata": {},
   "outputs": [],
   "source": [
    "G.add_nodes_from(actors,bipartite=0)\n",
    "G.add_nodes_from(movies,bipartite=1)"
   ]
  },
  {
   "cell_type": "code",
   "execution_count": 14,
   "metadata": {},
   "outputs": [],
   "source": [
    "with open('SENA_DataSet - MCUActorList.csv') as f:\n",
    "    file = csv.reader(f)\n",
    "    for line in file:\n",
    "        movie = line[0]\n",
    "        for i in line[1:]:\n",
    "            if i != '':\n",
    "                G.add_edge(movie,i)"
   ]
  },
  {
   "cell_type": "code",
   "execution_count": 17,
   "metadata": {},
   "outputs": [],
   "source": [
    "pos = nx.spring_layout(G, k=0.5,iterations=50)\n",
    "\n",
    "for n, p in pos.items():\n",
    "    G.nodes[n]['pos'] = p"
   ]
  },
  {
   "cell_type": "code",
   "execution_count": 20,
   "metadata": {},
   "outputs": [],
   "source": [
    "edge_trace = go.Scatter(x=[],y=[],line = dict(width=0.5,color='#888'),hoverinfo=\"none\",mode='lines')\n",
    "\n",
    "for edge in G.edges():\n",
    "    x0,y0 = G.nodes[edge[0]]['pos']\n",
    "    x1,y1 = G.nodes[edge[1]]['pos']\n",
    "    edge_trace['x'] += tuple([x0,x1,None])\n",
    "    edge_trace['y'] += tuple([y0,y1,None])\n"
   ]
  },
  {
   "cell_type": "code",
   "execution_count": 22,
   "metadata": {},
   "outputs": [],
   "source": [
    "node_trace = go.Scatter(x=[],y=[],text=[],mode='markers',hoverinfo='text',marker=dict(showscale=True,colorscale='RdBu',reversescale=True,color=[],size=15,colorbar=dict(thickness=10,title='Node Connections',xanchor='left',titleside='right'),line=dict(width=0)))\n",
    "\n",
    "for node in G.nodes():\n",
    "    x,y = G.nodes[node]['pos']\n",
    "    node_trace['x'] += tuple([x])\n",
    "    node_trace['y'] += tuple([y])"
   ]
  },
  {
   "cell_type": "code",
   "execution_count": 23,
   "metadata": {},
   "outputs": [
    {
     "ename": "ValueError",
     "evalue": "Mime type rendering requires nbformat>=4.2.0 but it is not installed",
     "output_type": "error",
     "traceback": [
      "\u001b[1;31m---------------------------------------------------------------------------\u001b[0m",
      "\u001b[1;31mValueError\u001b[0m                                Traceback (most recent call last)",
      "Cell \u001b[1;32mIn [23], line 3\u001b[0m\n\u001b[0;32m      1\u001b[0m fig \u001b[39m=\u001b[39m go\u001b[39m.\u001b[39mFigure(data \u001b[39m=\u001b[39m [edge_trace,node_trace],layout\u001b[39m=\u001b[39mgo\u001b[39m.\u001b[39mLayout(title\u001b[39m=\u001b[39m\u001b[39m'\u001b[39m\u001b[39m<br>Marvel Cinematic Universe Connections\u001b[39m\u001b[39m'\u001b[39m,titlefont\u001b[39m=\u001b[39m\u001b[39mdict\u001b[39m(size\u001b[39m=\u001b[39m\u001b[39m16\u001b[39m),showlegend\u001b[39m=\u001b[39m\u001b[39mFalse\u001b[39;00m,hovermode\u001b[39m=\u001b[39m\u001b[39m'\u001b[39m\u001b[39mclosest\u001b[39m\u001b[39m'\u001b[39m,margin\u001b[39m=\u001b[39m\u001b[39mdict\u001b[39m(b\u001b[39m=\u001b[39m\u001b[39m20\u001b[39m,l\u001b[39m=\u001b[39m\u001b[39m5\u001b[39m,r\u001b[39m=\u001b[39m\u001b[39m5\u001b[39m,t\u001b[39m=\u001b[39m\u001b[39m40\u001b[39m),annotations\u001b[39m=\u001b[39m[\u001b[39mdict\u001b[39m(text\u001b[39m=\u001b[39m\u001b[39m'\u001b[39m\u001b[39mNo. of connections\u001b[39m\u001b[39m'\u001b[39m,showarrow\u001b[39m=\u001b[39m\u001b[39mFalse\u001b[39;00m,xref\u001b[39m=\u001b[39m\u001b[39m'\u001b[39m\u001b[39mpaper\u001b[39m\u001b[39m'\u001b[39m,yref\u001b[39m=\u001b[39m\u001b[39m'\u001b[39m\u001b[39mpaper\u001b[39m\u001b[39m'\u001b[39m)],xaxis\u001b[39m=\u001b[39m\u001b[39mdict\u001b[39m(showgrid\u001b[39m=\u001b[39m\u001b[39mFalse\u001b[39;00m,zeroline\u001b[39m=\u001b[39m\u001b[39mFalse\u001b[39;00m,showticklabels\u001b[39m=\u001b[39m\u001b[39mFalse\u001b[39;00m),yaxis\u001b[39m=\u001b[39m\u001b[39mdict\u001b[39m(showgrid\u001b[39m=\u001b[39m\u001b[39mFalse\u001b[39;00m,zeroline\u001b[39m=\u001b[39m\u001b[39mFalse\u001b[39;00m,showticklabels\u001b[39m=\u001b[39m\u001b[39mFalse\u001b[39;00m)))\n\u001b[1;32m----> 3\u001b[0m iplot(fig)\n\u001b[0;32m      4\u001b[0m plotly\u001b[39m.\u001b[39mplot(fig)\n",
      "File \u001b[1;32md:\\Materials\\Projects\\SENA_Project\\sena\\lib\\site-packages\\plotly\\offline\\offline.py:392\u001b[0m, in \u001b[0;36miplot\u001b[1;34m(figure_or_data, show_link, link_text, validate, image, filename, image_width, image_height, config, auto_play, animation_opts)\u001b[0m\n\u001b[0;32m    387\u001b[0m post_script \u001b[39m=\u001b[39m build_save_image_post_script(\n\u001b[0;32m    388\u001b[0m     image, filename, image_height, image_width, \u001b[39m\"\u001b[39m\u001b[39miplot\u001b[39m\u001b[39m\"\u001b[39m\n\u001b[0;32m    389\u001b[0m )\n\u001b[0;32m    391\u001b[0m \u001b[39m# Show figure\u001b[39;00m\n\u001b[1;32m--> 392\u001b[0m pio\u001b[39m.\u001b[39;49mshow(\n\u001b[0;32m    393\u001b[0m     figure,\n\u001b[0;32m    394\u001b[0m     validate\u001b[39m=\u001b[39;49mvalidate,\n\u001b[0;32m    395\u001b[0m     config\u001b[39m=\u001b[39;49mconfig,\n\u001b[0;32m    396\u001b[0m     auto_play\u001b[39m=\u001b[39;49mauto_play,\n\u001b[0;32m    397\u001b[0m     post_script\u001b[39m=\u001b[39;49mpost_script,\n\u001b[0;32m    398\u001b[0m     animation_opts\u001b[39m=\u001b[39;49manimation_opts,\n\u001b[0;32m    399\u001b[0m )\n",
      "File \u001b[1;32md:\\Materials\\Projects\\SENA_Project\\sena\\lib\\site-packages\\plotly\\io\\_renderers.py:396\u001b[0m, in \u001b[0;36mshow\u001b[1;34m(fig, renderer, validate, **kwargs)\u001b[0m\n\u001b[0;32m    391\u001b[0m         \u001b[39mraise\u001b[39;00m \u001b[39mValueError\u001b[39;00m(\n\u001b[0;32m    392\u001b[0m             \u001b[39m\"\u001b[39m\u001b[39mMime type rendering requires ipython but it is not installed\u001b[39m\u001b[39m\"\u001b[39m\n\u001b[0;32m    393\u001b[0m         )\n\u001b[0;32m    395\u001b[0m     \u001b[39mif\u001b[39;00m \u001b[39mnot\u001b[39;00m nbformat \u001b[39mor\u001b[39;00m LooseVersion(nbformat\u001b[39m.\u001b[39m__version__) \u001b[39m<\u001b[39m LooseVersion(\u001b[39m\"\u001b[39m\u001b[39m4.2.0\u001b[39m\u001b[39m\"\u001b[39m):\n\u001b[1;32m--> 396\u001b[0m         \u001b[39mraise\u001b[39;00m \u001b[39mValueError\u001b[39;00m(\n\u001b[0;32m    397\u001b[0m             \u001b[39m\"\u001b[39m\u001b[39mMime type rendering requires nbformat>=4.2.0 but it is not installed\u001b[39m\u001b[39m\"\u001b[39m\n\u001b[0;32m    398\u001b[0m         )\n\u001b[0;32m    400\u001b[0m     ipython_display\u001b[39m.\u001b[39mdisplay(bundle, raw\u001b[39m=\u001b[39m\u001b[39mTrue\u001b[39;00m)\n\u001b[0;32m    402\u001b[0m \u001b[39m# external renderers\u001b[39;00m\n",
      "\u001b[1;31mValueError\u001b[0m: Mime type rendering requires nbformat>=4.2.0 but it is not installed"
     ]
    }
   ],
   "source": [
    "fig = go.Figure(data = [edge_trace,node_trace],layout=go.Layout(title='<br>Marvel Cinematic Universe Connections',titlefont=dict(size=16),showlegend=False,hovermode='closest',margin=dict(b=20,l=5,r=5,t=40),annotations=[dict(text='No. of connections',showarrow=False,xref='paper',yref='paper')],xaxis=dict(showgrid=False,zeroline=False,showticklabels=False),yaxis=dict(showgrid=False,zeroline=False,showticklabels=False)))\n",
    "\n",
    "iplot(fig)\n",
    "plotly.plot(fig)"
   ]
  }
 ],
 "metadata": {
  "kernelspec": {
   "display_name": "Python 3.9.7 ('sena': venv)",
   "language": "python",
   "name": "python3"
  },
  "language_info": {
   "codemirror_mode": {
    "name": "ipython",
    "version": 3
   },
   "file_extension": ".py",
   "mimetype": "text/x-python",
   "name": "python",
   "nbconvert_exporter": "python",
   "pygments_lexer": "ipython3",
   "version": "3.9.7"
  },
  "orig_nbformat": 4,
  "vscode": {
   "interpreter": {
    "hash": "583fa07ebe794d4c7b832b863655a169fe227b6f1d8be1127dd55ebf9c885e62"
   }
  }
 },
 "nbformat": 4,
 "nbformat_minor": 2
}
