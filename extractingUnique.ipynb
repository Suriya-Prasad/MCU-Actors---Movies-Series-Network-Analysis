{
 "cells": [
  {
   "cell_type": "code",
   "execution_count": 1,
   "metadata": {},
   "outputs": [
    {
     "name": "stdout",
     "output_type": "stream",
     "text": [
      "Index(['Name', 'Actor_1', 'Actor_2', 'Actor_3', 'Acotr_4', 'Unnamed: 5',\n",
      "       'Unnamed: 6', 'Unnamed: 7', 'Unnamed: 8', 'Unnamed: 9', 'Unnamed: 10',\n",
      "       'Unnamed: 11', 'Unnamed: 12', 'Unnamed: 13', 'Unnamed: 14',\n",
      "       'Unnamed: 15', 'Unnamed: 16', 'Unnamed: 17', 'Unnamed: 18',\n",
      "       'Unnamed: 19', 'Unnamed: 20', 'Unnamed: 21', 'Unnamed: 22',\n",
      "       'Unnamed: 23', 'Unnamed: 24', 'Unnamed: 25'],\n",
      "      dtype='object')\n"
     ]
    }
   ],
   "source": [
    "import pandas as pd\n",
    "  \n",
    "# load the data with pd.read_csv\n",
    "record = pd.read_csv(\"SENA_Dataset - MCUActorList.csv\") \n",
    "  \n",
    "result = record.columns\n",
    "\n",
    "print(result)"
   ]
  },
  {
   "cell_type": "code",
   "execution_count": 3,
   "metadata": {},
   "outputs": [
    {
     "name": "stdout",
     "output_type": "stream",
     "text": [
      "['Robert Downey Jr.' 'Edward Norton' 'Chris Hemsworth' 'Chris Evans'\n",
      " 'Chris Patt' 'Paul Rudd' 'Benedict Cumberbatch' 'Tom Holland'\n",
      " 'Chadwick Boseman' 'Brie Larson' 'Scarlett Johansson' 'Simu Liu'\n",
      " 'Gemma Chan']\n"
     ]
    }
   ],
   "source": [
    "\n",
    "list1 = []\n",
    "list1 = record['Actor_1'].unique()\n",
    "print(list1)"
   ]
  },
  {
   "cell_type": "code",
   "execution_count": null,
   "metadata": {},
   "outputs": [],
   "source": []
  }
 ],
 "metadata": {
  "kernelspec": {
   "display_name": "Python 3.9.7 64-bit",
   "language": "python",
   "name": "python3"
  },
  "language_info": {
   "codemirror_mode": {
    "name": "ipython",
    "version": 3
   },
   "file_extension": ".py",
   "mimetype": "text/x-python",
   "name": "python",
   "nbconvert_exporter": "python",
   "pygments_lexer": "ipython3",
   "version": "3.9.7"
  },
  "orig_nbformat": 4,
  "vscode": {
   "interpreter": {
    "hash": "b84fcad6ccd5c032c59802c3ba70dce2674413ac82dfe6bb6586f9ee366033e2"
   }
  }
 },
 "nbformat": 4,
 "nbformat_minor": 2
}
